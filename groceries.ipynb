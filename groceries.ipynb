{
  "cells": [
    {
      "cell_type": "markdown",
      "metadata": {
        "id": "view-in-github",
        "colab_type": "text"
      },
      "source": [
        "<a href=\"https://colab.research.google.com/github/Nouman-blip/ml-stuttering-events-dataset/blob/main/groceries.ipynb\" target=\"_parent\"><img src=\"https://colab.research.google.com/assets/colab-badge.svg\" alt=\"Open In Colab\"/></a>"
      ]
    },
    {
      "cell_type": "markdown",
      "metadata": {
        "id": "UCv9p8VIFL7T"
      },
      "source": [
        "# groceries\n",
        "\n",
        "Use the \"Run\" button to execute the code."
      ]
    },
    {
      "cell_type": "markdown",
      "source": [
        "# Groceries EDA"
      ],
      "metadata": {
        "id": "h3Qzpe9FGZYU"
      }
    },
    {
      "cell_type": "markdown",
      "source": [
        "TODO -objectives\n",
        "\n",
        "\n",
        "-  pattern findings in food consumption\n",
        "-  customer consumption\n",
        "-  highest profit sales\n",
        "\n",
        "\n",
        "\n",
        "\n",
        "\n",
        "\n",
        "\n"
      ],
      "metadata": {
        "id": "JqfCCYRqHIZ8"
      }
    },
    {
      "cell_type": "code",
      "execution_count": 126,
      "metadata": {
        "id": "MJ9EcGuAFL7b"
      },
      "outputs": [],
      "source": [
        "pip install opendatasets --upgrade --quiet"
      ]
    },
    {
      "cell_type": "code",
      "source": [
        "import opendatasets as od\n",
        "\n",
        "download_url= \"https://www.kaggle.com/datasets/mohamedharris/supermart-grocery-sales-retail-analytics-dataset\"\n",
        "od.download(download_url)"
      ],
      "metadata": {
        "colab": {
          "base_uri": "https://localhost:8080/"
        },
        "id": "NkuhZB_HJ7jD",
        "outputId": "b174e787-1a99-4123-e51a-1cfc6f2bbd46"
      },
      "execution_count": 4,
      "outputs": [
        {
          "output_type": "stream",
          "name": "stdout",
          "text": [
            "Please provide your Kaggle credentials to download this dataset. Learn more: http://bit.ly/kaggle-creds\n",
            "Your Kaggle username: noumankhannoul\n",
            "Your Kaggle Key: ··········\n",
            "Downloading supermart-grocery-sales-retail-analytics-dataset.zip to ./supermart-grocery-sales-retail-analytics-dataset\n"
          ]
        },
        {
          "output_type": "stream",
          "name": "stderr",
          "text": [
            "100%|██████████| 191k/191k [00:00<00:00, 50.8MB/s]"
          ]
        },
        {
          "output_type": "stream",
          "name": "stdout",
          "text": [
            "\n"
          ]
        },
        {
          "output_type": "stream",
          "name": "stderr",
          "text": [
            "\n"
          ]
        }
      ]
    },
    {
      "cell_type": "code",
      "execution_count": 5,
      "metadata": {
        "id": "w9xJxxgZFL7c"
      },
      "outputs": [],
      "source": [
        "data_filename= \"./supermart-grocery-sales-retail-analytics-dataset/Supermart Grocery Sales - Retail Analytics Dataset.csv\""
      ]
    },
    {
      "cell_type": "markdown",
      "source": [
        "## Data Preparation and Cleaning\n",
        "\n",
        "1. Load the file using Pandas\n",
        "2. Look at some information about the data & the columns\n",
        "3. Fix any missing or incorrect values"
      ],
      "metadata": {
        "id": "UpmYeoWROTgW"
      }
    },
    {
      "cell_type": "code",
      "source": [
        "import pandas as pd\n"
      ],
      "metadata": {
        "id": "0rOGUbuzOXni"
      },
      "execution_count": 6,
      "outputs": []
    },
    {
      "cell_type": "code",
      "execution_count": 7,
      "metadata": {
        "colab": {
          "base_uri": "https://localhost:8080/",
          "height": 424
        },
        "id": "wZUdCVuTFL7c",
        "outputId": "8e590fd1-409c-4a9b-d9a0-effaacfd1055"
      },
      "outputs": [
        {
          "output_type": "execute_result",
          "data": {
            "text/plain": [
              "     Order ID Customer Name           Category      Sub Category         City  \\\n",
              "0         OD1        Harish       Oil & Masala           Masalas      Vellore   \n",
              "1         OD2         Sudha          Beverages     Health Drinks  Krishnagiri   \n",
              "2         OD3       Hussain        Food Grains      Atta & Flour   Perambalur   \n",
              "3         OD4       Jackson   Fruits & Veggies  Fresh Vegetables   Dharmapuri   \n",
              "4         OD5       Ridhesh        Food Grains   Organic Staples         Ooty   \n",
              "...       ...           ...                ...               ...          ...   \n",
              "9989   OD9990        Sudeep  Eggs, Meat & Fish              Eggs      Madurai   \n",
              "9990   OD9991          Alan             Bakery          Biscuits  Kanyakumari   \n",
              "9991   OD9992          Ravi        Food Grains              Rice         Bodi   \n",
              "9992   OD9993          Peer       Oil & Masala            Spices   Pudukottai   \n",
              "9993   OD9994        Ganesh        Food Grains      Atta & Flour  Tirunelveli   \n",
              "\n",
              "      Order Date Region  Sales  Discount  Profit       State  \n",
              "0     11-08-2017  North   1254      0.12  401.28  Tamil Nadu  \n",
              "1     11-08-2017  South    749      0.18  149.80  Tamil Nadu  \n",
              "2     06-12-2017   West   2360      0.21  165.20  Tamil Nadu  \n",
              "3     10-11-2016  South    896      0.25   89.60  Tamil Nadu  \n",
              "4     10-11-2016  South   2355      0.26  918.45  Tamil Nadu  \n",
              "...          ...    ...    ...       ...     ...         ...  \n",
              "9989  12/24/2015   West    945      0.16  359.10  Tamil Nadu  \n",
              "9990  07-12-2015   West   1195      0.26   71.70  Tamil Nadu  \n",
              "9991  06-06-2017   West   1567      0.16  501.44  Tamil Nadu  \n",
              "9992  10/16/2018   West   1659      0.15  597.24  Tamil Nadu  \n",
              "9993   4/17/2018   West   1034      0.28  165.44  Tamil Nadu  \n",
              "\n",
              "[9994 rows x 11 columns]"
            ],
            "text/html": [
              "\n",
              "  <div id=\"df-2d665354-6f23-45de-a70e-73db8d2ed750\">\n",
              "    <div class=\"colab-df-container\">\n",
              "      <div>\n",
              "<style scoped>\n",
              "    .dataframe tbody tr th:only-of-type {\n",
              "        vertical-align: middle;\n",
              "    }\n",
              "\n",
              "    .dataframe tbody tr th {\n",
              "        vertical-align: top;\n",
              "    }\n",
              "\n",
              "    .dataframe thead th {\n",
              "        text-align: right;\n",
              "    }\n",
              "</style>\n",
              "<table border=\"1\" class=\"dataframe\">\n",
              "  <thead>\n",
              "    <tr style=\"text-align: right;\">\n",
              "      <th></th>\n",
              "      <th>Order ID</th>\n",
              "      <th>Customer Name</th>\n",
              "      <th>Category</th>\n",
              "      <th>Sub Category</th>\n",
              "      <th>City</th>\n",
              "      <th>Order Date</th>\n",
              "      <th>Region</th>\n",
              "      <th>Sales</th>\n",
              "      <th>Discount</th>\n",
              "      <th>Profit</th>\n",
              "      <th>State</th>\n",
              "    </tr>\n",
              "  </thead>\n",
              "  <tbody>\n",
              "    <tr>\n",
              "      <th>0</th>\n",
              "      <td>OD1</td>\n",
              "      <td>Harish</td>\n",
              "      <td>Oil &amp; Masala</td>\n",
              "      <td>Masalas</td>\n",
              "      <td>Vellore</td>\n",
              "      <td>11-08-2017</td>\n",
              "      <td>North</td>\n",
              "      <td>1254</td>\n",
              "      <td>0.12</td>\n",
              "      <td>401.28</td>\n",
              "      <td>Tamil Nadu</td>\n",
              "    </tr>\n",
              "    <tr>\n",
              "      <th>1</th>\n",
              "      <td>OD2</td>\n",
              "      <td>Sudha</td>\n",
              "      <td>Beverages</td>\n",
              "      <td>Health Drinks</td>\n",
              "      <td>Krishnagiri</td>\n",
              "      <td>11-08-2017</td>\n",
              "      <td>South</td>\n",
              "      <td>749</td>\n",
              "      <td>0.18</td>\n",
              "      <td>149.80</td>\n",
              "      <td>Tamil Nadu</td>\n",
              "    </tr>\n",
              "    <tr>\n",
              "      <th>2</th>\n",
              "      <td>OD3</td>\n",
              "      <td>Hussain</td>\n",
              "      <td>Food Grains</td>\n",
              "      <td>Atta &amp; Flour</td>\n",
              "      <td>Perambalur</td>\n",
              "      <td>06-12-2017</td>\n",
              "      <td>West</td>\n",
              "      <td>2360</td>\n",
              "      <td>0.21</td>\n",
              "      <td>165.20</td>\n",
              "      <td>Tamil Nadu</td>\n",
              "    </tr>\n",
              "    <tr>\n",
              "      <th>3</th>\n",
              "      <td>OD4</td>\n",
              "      <td>Jackson</td>\n",
              "      <td>Fruits &amp; Veggies</td>\n",
              "      <td>Fresh Vegetables</td>\n",
              "      <td>Dharmapuri</td>\n",
              "      <td>10-11-2016</td>\n",
              "      <td>South</td>\n",
              "      <td>896</td>\n",
              "      <td>0.25</td>\n",
              "      <td>89.60</td>\n",
              "      <td>Tamil Nadu</td>\n",
              "    </tr>\n",
              "    <tr>\n",
              "      <th>4</th>\n",
              "      <td>OD5</td>\n",
              "      <td>Ridhesh</td>\n",
              "      <td>Food Grains</td>\n",
              "      <td>Organic Staples</td>\n",
              "      <td>Ooty</td>\n",
              "      <td>10-11-2016</td>\n",
              "      <td>South</td>\n",
              "      <td>2355</td>\n",
              "      <td>0.26</td>\n",
              "      <td>918.45</td>\n",
              "      <td>Tamil Nadu</td>\n",
              "    </tr>\n",
              "    <tr>\n",
              "      <th>...</th>\n",
              "      <td>...</td>\n",
              "      <td>...</td>\n",
              "      <td>...</td>\n",
              "      <td>...</td>\n",
              "      <td>...</td>\n",
              "      <td>...</td>\n",
              "      <td>...</td>\n",
              "      <td>...</td>\n",
              "      <td>...</td>\n",
              "      <td>...</td>\n",
              "      <td>...</td>\n",
              "    </tr>\n",
              "    <tr>\n",
              "      <th>9989</th>\n",
              "      <td>OD9990</td>\n",
              "      <td>Sudeep</td>\n",
              "      <td>Eggs, Meat &amp; Fish</td>\n",
              "      <td>Eggs</td>\n",
              "      <td>Madurai</td>\n",
              "      <td>12/24/2015</td>\n",
              "      <td>West</td>\n",
              "      <td>945</td>\n",
              "      <td>0.16</td>\n",
              "      <td>359.10</td>\n",
              "      <td>Tamil Nadu</td>\n",
              "    </tr>\n",
              "    <tr>\n",
              "      <th>9990</th>\n",
              "      <td>OD9991</td>\n",
              "      <td>Alan</td>\n",
              "      <td>Bakery</td>\n",
              "      <td>Biscuits</td>\n",
              "      <td>Kanyakumari</td>\n",
              "      <td>07-12-2015</td>\n",
              "      <td>West</td>\n",
              "      <td>1195</td>\n",
              "      <td>0.26</td>\n",
              "      <td>71.70</td>\n",
              "      <td>Tamil Nadu</td>\n",
              "    </tr>\n",
              "    <tr>\n",
              "      <th>9991</th>\n",
              "      <td>OD9992</td>\n",
              "      <td>Ravi</td>\n",
              "      <td>Food Grains</td>\n",
              "      <td>Rice</td>\n",
              "      <td>Bodi</td>\n",
              "      <td>06-06-2017</td>\n",
              "      <td>West</td>\n",
              "      <td>1567</td>\n",
              "      <td>0.16</td>\n",
              "      <td>501.44</td>\n",
              "      <td>Tamil Nadu</td>\n",
              "    </tr>\n",
              "    <tr>\n",
              "      <th>9992</th>\n",
              "      <td>OD9993</td>\n",
              "      <td>Peer</td>\n",
              "      <td>Oil &amp; Masala</td>\n",
              "      <td>Spices</td>\n",
              "      <td>Pudukottai</td>\n",
              "      <td>10/16/2018</td>\n",
              "      <td>West</td>\n",
              "      <td>1659</td>\n",
              "      <td>0.15</td>\n",
              "      <td>597.24</td>\n",
              "      <td>Tamil Nadu</td>\n",
              "    </tr>\n",
              "    <tr>\n",
              "      <th>9993</th>\n",
              "      <td>OD9994</td>\n",
              "      <td>Ganesh</td>\n",
              "      <td>Food Grains</td>\n",
              "      <td>Atta &amp; Flour</td>\n",
              "      <td>Tirunelveli</td>\n",
              "      <td>4/17/2018</td>\n",
              "      <td>West</td>\n",
              "      <td>1034</td>\n",
              "      <td>0.28</td>\n",
              "      <td>165.44</td>\n",
              "      <td>Tamil Nadu</td>\n",
              "    </tr>\n",
              "  </tbody>\n",
              "</table>\n",
              "<p>9994 rows × 11 columns</p>\n",
              "</div>\n",
              "      <button class=\"colab-df-convert\" onclick=\"convertToInteractive('df-2d665354-6f23-45de-a70e-73db8d2ed750')\"\n",
              "              title=\"Convert this dataframe to an interactive table.\"\n",
              "              style=\"display:none;\">\n",
              "        \n",
              "  <svg xmlns=\"http://www.w3.org/2000/svg\" height=\"24px\"viewBox=\"0 0 24 24\"\n",
              "       width=\"24px\">\n",
              "    <path d=\"M0 0h24v24H0V0z\" fill=\"none\"/>\n",
              "    <path d=\"M18.56 5.44l.94 2.06.94-2.06 2.06-.94-2.06-.94-.94-2.06-.94 2.06-2.06.94zm-11 1L8.5 8.5l.94-2.06 2.06-.94-2.06-.94L8.5 2.5l-.94 2.06-2.06.94zm10 10l.94 2.06.94-2.06 2.06-.94-2.06-.94-.94-2.06-.94 2.06-2.06.94z\"/><path d=\"M17.41 7.96l-1.37-1.37c-.4-.4-.92-.59-1.43-.59-.52 0-1.04.2-1.43.59L10.3 9.45l-7.72 7.72c-.78.78-.78 2.05 0 2.83L4 21.41c.39.39.9.59 1.41.59.51 0 1.02-.2 1.41-.59l7.78-7.78 2.81-2.81c.8-.78.8-2.07 0-2.86zM5.41 20L4 18.59l7.72-7.72 1.47 1.35L5.41 20z\"/>\n",
              "  </svg>\n",
              "      </button>\n",
              "      \n",
              "  <style>\n",
              "    .colab-df-container {\n",
              "      display:flex;\n",
              "      flex-wrap:wrap;\n",
              "      gap: 12px;\n",
              "    }\n",
              "\n",
              "    .colab-df-convert {\n",
              "      background-color: #E8F0FE;\n",
              "      border: none;\n",
              "      border-radius: 50%;\n",
              "      cursor: pointer;\n",
              "      display: none;\n",
              "      fill: #1967D2;\n",
              "      height: 32px;\n",
              "      padding: 0 0 0 0;\n",
              "      width: 32px;\n",
              "    }\n",
              "\n",
              "    .colab-df-convert:hover {\n",
              "      background-color: #E2EBFA;\n",
              "      box-shadow: 0px 1px 2px rgba(60, 64, 67, 0.3), 0px 1px 3px 1px rgba(60, 64, 67, 0.15);\n",
              "      fill: #174EA6;\n",
              "    }\n",
              "\n",
              "    [theme=dark] .colab-df-convert {\n",
              "      background-color: #3B4455;\n",
              "      fill: #D2E3FC;\n",
              "    }\n",
              "\n",
              "    [theme=dark] .colab-df-convert:hover {\n",
              "      background-color: #434B5C;\n",
              "      box-shadow: 0px 1px 3px 1px rgba(0, 0, 0, 0.15);\n",
              "      filter: drop-shadow(0px 1px 2px rgba(0, 0, 0, 0.3));\n",
              "      fill: #FFFFFF;\n",
              "    }\n",
              "  </style>\n",
              "\n",
              "      <script>\n",
              "        const buttonEl =\n",
              "          document.querySelector('#df-2d665354-6f23-45de-a70e-73db8d2ed750 button.colab-df-convert');\n",
              "        buttonEl.style.display =\n",
              "          google.colab.kernel.accessAllowed ? 'block' : 'none';\n",
              "\n",
              "        async function convertToInteractive(key) {\n",
              "          const element = document.querySelector('#df-2d665354-6f23-45de-a70e-73db8d2ed750');\n",
              "          const dataTable =\n",
              "            await google.colab.kernel.invokeFunction('convertToInteractive',\n",
              "                                                     [key], {});\n",
              "          if (!dataTable) return;\n",
              "\n",
              "          const docLinkHtml = 'Like what you see? Visit the ' +\n",
              "            '<a target=\"_blank\" href=https://colab.research.google.com/notebooks/data_table.ipynb>data table notebook</a>'\n",
              "            + ' to learn more about interactive tables.';\n",
              "          element.innerHTML = '';\n",
              "          dataTable['output_type'] = 'display_data';\n",
              "          await google.colab.output.renderOutput(dataTable, element);\n",
              "          const docLink = document.createElement('div');\n",
              "          docLink.innerHTML = docLinkHtml;\n",
              "          element.appendChild(docLink);\n",
              "        }\n",
              "      </script>\n",
              "    </div>\n",
              "  </div>\n",
              "  "
            ]
          },
          "metadata": {},
          "execution_count": 7
        }
      ],
      "source": [
        "df=pd.read_csv(data_filename)\n",
        "df"
      ]
    },
    {
      "cell_type": "code",
      "execution_count": 8,
      "metadata": {
        "colab": {
          "base_uri": "https://localhost:8080/",
          "height": 300
        },
        "id": "ZFtOm0dgFL7c",
        "outputId": "32b1dd1e-74c0-4468-8b20-69eb39b12ff7"
      },
      "outputs": [
        {
          "output_type": "execute_result",
          "data": {
            "text/plain": [
              "             Sales     Discount       Profit\n",
              "count  9994.000000  9994.000000  9994.000000\n",
              "mean   1496.596158     0.226817   374.937082\n",
              "std     577.559036     0.074636   239.932881\n",
              "min     500.000000     0.100000    25.250000\n",
              "25%    1000.000000     0.160000   180.022500\n",
              "50%    1498.000000     0.230000   320.780000\n",
              "75%    1994.750000     0.290000   525.627500\n",
              "max    2500.000000     0.350000  1120.950000"
            ],
            "text/html": [
              "\n",
              "  <div id=\"df-efa83647-f369-428f-870b-1d941e8e372a\">\n",
              "    <div class=\"colab-df-container\">\n",
              "      <div>\n",
              "<style scoped>\n",
              "    .dataframe tbody tr th:only-of-type {\n",
              "        vertical-align: middle;\n",
              "    }\n",
              "\n",
              "    .dataframe tbody tr th {\n",
              "        vertical-align: top;\n",
              "    }\n",
              "\n",
              "    .dataframe thead th {\n",
              "        text-align: right;\n",
              "    }\n",
              "</style>\n",
              "<table border=\"1\" class=\"dataframe\">\n",
              "  <thead>\n",
              "    <tr style=\"text-align: right;\">\n",
              "      <th></th>\n",
              "      <th>Sales</th>\n",
              "      <th>Discount</th>\n",
              "      <th>Profit</th>\n",
              "    </tr>\n",
              "  </thead>\n",
              "  <tbody>\n",
              "    <tr>\n",
              "      <th>count</th>\n",
              "      <td>9994.000000</td>\n",
              "      <td>9994.000000</td>\n",
              "      <td>9994.000000</td>\n",
              "    </tr>\n",
              "    <tr>\n",
              "      <th>mean</th>\n",
              "      <td>1496.596158</td>\n",
              "      <td>0.226817</td>\n",
              "      <td>374.937082</td>\n",
              "    </tr>\n",
              "    <tr>\n",
              "      <th>std</th>\n",
              "      <td>577.559036</td>\n",
              "      <td>0.074636</td>\n",
              "      <td>239.932881</td>\n",
              "    </tr>\n",
              "    <tr>\n",
              "      <th>min</th>\n",
              "      <td>500.000000</td>\n",
              "      <td>0.100000</td>\n",
              "      <td>25.250000</td>\n",
              "    </tr>\n",
              "    <tr>\n",
              "      <th>25%</th>\n",
              "      <td>1000.000000</td>\n",
              "      <td>0.160000</td>\n",
              "      <td>180.022500</td>\n",
              "    </tr>\n",
              "    <tr>\n",
              "      <th>50%</th>\n",
              "      <td>1498.000000</td>\n",
              "      <td>0.230000</td>\n",
              "      <td>320.780000</td>\n",
              "    </tr>\n",
              "    <tr>\n",
              "      <th>75%</th>\n",
              "      <td>1994.750000</td>\n",
              "      <td>0.290000</td>\n",
              "      <td>525.627500</td>\n",
              "    </tr>\n",
              "    <tr>\n",
              "      <th>max</th>\n",
              "      <td>2500.000000</td>\n",
              "      <td>0.350000</td>\n",
              "      <td>1120.950000</td>\n",
              "    </tr>\n",
              "  </tbody>\n",
              "</table>\n",
              "</div>\n",
              "      <button class=\"colab-df-convert\" onclick=\"convertToInteractive('df-efa83647-f369-428f-870b-1d941e8e372a')\"\n",
              "              title=\"Convert this dataframe to an interactive table.\"\n",
              "              style=\"display:none;\">\n",
              "        \n",
              "  <svg xmlns=\"http://www.w3.org/2000/svg\" height=\"24px\"viewBox=\"0 0 24 24\"\n",
              "       width=\"24px\">\n",
              "    <path d=\"M0 0h24v24H0V0z\" fill=\"none\"/>\n",
              "    <path d=\"M18.56 5.44l.94 2.06.94-2.06 2.06-.94-2.06-.94-.94-2.06-.94 2.06-2.06.94zm-11 1L8.5 8.5l.94-2.06 2.06-.94-2.06-.94L8.5 2.5l-.94 2.06-2.06.94zm10 10l.94 2.06.94-2.06 2.06-.94-2.06-.94-.94-2.06-.94 2.06-2.06.94z\"/><path d=\"M17.41 7.96l-1.37-1.37c-.4-.4-.92-.59-1.43-.59-.52 0-1.04.2-1.43.59L10.3 9.45l-7.72 7.72c-.78.78-.78 2.05 0 2.83L4 21.41c.39.39.9.59 1.41.59.51 0 1.02-.2 1.41-.59l7.78-7.78 2.81-2.81c.8-.78.8-2.07 0-2.86zM5.41 20L4 18.59l7.72-7.72 1.47 1.35L5.41 20z\"/>\n",
              "  </svg>\n",
              "      </button>\n",
              "      \n",
              "  <style>\n",
              "    .colab-df-container {\n",
              "      display:flex;\n",
              "      flex-wrap:wrap;\n",
              "      gap: 12px;\n",
              "    }\n",
              "\n",
              "    .colab-df-convert {\n",
              "      background-color: #E8F0FE;\n",
              "      border: none;\n",
              "      border-radius: 50%;\n",
              "      cursor: pointer;\n",
              "      display: none;\n",
              "      fill: #1967D2;\n",
              "      height: 32px;\n",
              "      padding: 0 0 0 0;\n",
              "      width: 32px;\n",
              "    }\n",
              "\n",
              "    .colab-df-convert:hover {\n",
              "      background-color: #E2EBFA;\n",
              "      box-shadow: 0px 1px 2px rgba(60, 64, 67, 0.3), 0px 1px 3px 1px rgba(60, 64, 67, 0.15);\n",
              "      fill: #174EA6;\n",
              "    }\n",
              "\n",
              "    [theme=dark] .colab-df-convert {\n",
              "      background-color: #3B4455;\n",
              "      fill: #D2E3FC;\n",
              "    }\n",
              "\n",
              "    [theme=dark] .colab-df-convert:hover {\n",
              "      background-color: #434B5C;\n",
              "      box-shadow: 0px 1px 3px 1px rgba(0, 0, 0, 0.15);\n",
              "      filter: drop-shadow(0px 1px 2px rgba(0, 0, 0, 0.3));\n",
              "      fill: #FFFFFF;\n",
              "    }\n",
              "  </style>\n",
              "\n",
              "      <script>\n",
              "        const buttonEl =\n",
              "          document.querySelector('#df-efa83647-f369-428f-870b-1d941e8e372a button.colab-df-convert');\n",
              "        buttonEl.style.display =\n",
              "          google.colab.kernel.accessAllowed ? 'block' : 'none';\n",
              "\n",
              "        async function convertToInteractive(key) {\n",
              "          const element = document.querySelector('#df-efa83647-f369-428f-870b-1d941e8e372a');\n",
              "          const dataTable =\n",
              "            await google.colab.kernel.invokeFunction('convertToInteractive',\n",
              "                                                     [key], {});\n",
              "          if (!dataTable) return;\n",
              "\n",
              "          const docLinkHtml = 'Like what you see? Visit the ' +\n",
              "            '<a target=\"_blank\" href=https://colab.research.google.com/notebooks/data_table.ipynb>data table notebook</a>'\n",
              "            + ' to learn more about interactive tables.';\n",
              "          element.innerHTML = '';\n",
              "          dataTable['output_type'] = 'display_data';\n",
              "          await google.colab.output.renderOutput(dataTable, element);\n",
              "          const docLink = document.createElement('div');\n",
              "          docLink.innerHTML = docLinkHtml;\n",
              "          element.appendChild(docLink);\n",
              "        }\n",
              "      </script>\n",
              "    </div>\n",
              "  </div>\n",
              "  "
            ]
          },
          "metadata": {},
          "execution_count": 8
        }
      ],
      "source": [
        "df.describe()"
      ]
    },
    {
      "cell_type": "code",
      "execution_count": null,
      "metadata": {
        "colab": {
          "base_uri": "https://localhost:8080/"
        },
        "id": "_OtNpiJhFL7d",
        "outputId": "062bbbb1-e10e-4a4e-e395-0fbb5028524f"
      },
      "outputs": [
        {
          "output_type": "execute_result",
          "data": {
            "text/plain": [
              "Index(['Order ID', 'Customer Name', 'Category', 'Sub Category', 'City',\n",
              "       'Order Date', 'Region', 'Sales', 'Discount', 'Profit', 'State'],\n",
              "      dtype='object')"
            ]
          },
          "metadata": {},
          "execution_count": 14
        }
      ],
      "source": [
        "df.columns"
      ]
    },
    {
      "cell_type": "code",
      "execution_count": null,
      "metadata": {
        "colab": {
          "base_uri": "https://localhost:8080/"
        },
        "id": "bX2kKwe4FL7f",
        "outputId": "65de97b1-3f15-49d7-9c88-fd39caf101e2"
      },
      "outputs": [
        {
          "output_type": "execute_result",
          "data": {
            "text/plain": [
              "3"
            ]
          },
          "metadata": {},
          "execution_count": 15
        }
      ],
      "source": [
        "numerics = ['int16', 'int32', 'int64', 'float16', 'float32', 'float64']\n",
        "\n",
        "numeric_df = df.select_dtypes(include=numerics)\n",
        "len(numeric_df.columns)"
      ]
    },
    {
      "cell_type": "markdown",
      "source": [
        "percentage of missing values "
      ],
      "metadata": {
        "id": "M2hKi_ypYynT"
      }
    },
    {
      "cell_type": "code",
      "source": [
        "missing_percentage = df.isna().sum().sort_values() / len(df)\n",
        "missing_percentage"
      ],
      "metadata": {
        "colab": {
          "base_uri": "https://localhost:8080/"
        },
        "id": "5O1bxWhVYlBJ",
        "outputId": "d48cf474-cf55-4976-9b92-e65131780a11"
      },
      "execution_count": null,
      "outputs": [
        {
          "output_type": "execute_result",
          "data": {
            "text/plain": [
              "Order ID         0.0\n",
              "Customer Name    0.0\n",
              "Category         0.0\n",
              "Sub Category     0.0\n",
              "City             0.0\n",
              "Order Date       0.0\n",
              "Region           0.0\n",
              "Sales            0.0\n",
              "Discount         0.0\n",
              "Profit           0.0\n",
              "State            0.0\n",
              "dtype: float64"
            ]
          },
          "metadata": {},
          "execution_count": 18
        }
      ]
    },
    {
      "cell_type": "code",
      "source": [
        "df.info()"
      ],
      "metadata": {
        "colab": {
          "base_uri": "https://localhost:8080/"
        },
        "id": "lsMfecfPYkuq",
        "outputId": "6f15bb0b-a5d4-4ad0-d6f6-99c4b08d7f95"
      },
      "execution_count": null,
      "outputs": [
        {
          "output_type": "stream",
          "name": "stdout",
          "text": [
            "<class 'pandas.core.frame.DataFrame'>\n",
            "RangeIndex: 9994 entries, 0 to 9993\n",
            "Data columns (total 11 columns):\n",
            " #   Column         Non-Null Count  Dtype  \n",
            "---  ------         --------------  -----  \n",
            " 0   Order ID       9994 non-null   object \n",
            " 1   Customer Name  9994 non-null   object \n",
            " 2   Category       9994 non-null   object \n",
            " 3   Sub Category   9994 non-null   object \n",
            " 4   City           9994 non-null   object \n",
            " 5   Order Date     9994 non-null   object \n",
            " 6   Region         9994 non-null   object \n",
            " 7   Sales          9994 non-null   int64  \n",
            " 8   Discount       9994 non-null   float64\n",
            " 9   Profit         9994 non-null   float64\n",
            " 10  State          9994 non-null   object \n",
            "dtypes: float64(2), int64(1), object(8)\n",
            "memory usage: 859.0+ KB\n"
          ]
        }
      ]
    },
    {
      "cell_type": "markdown",
      "source": [
        "## Exploratory Analysis and Visualization\n",
        "\n",
        "Columns we'll analyze:\n",
        "\n",
        "1. City\n",
        "3. profit\n",
        "4. sales\n",
        "5. category"
      ],
      "metadata": {
        "id": "qc_vM0GFcDED"
      }
    },
    {
      "cell_type": "code",
      "source": [
        "df.City"
      ],
      "metadata": {
        "id": "fhpFhClTYlJT",
        "colab": {
          "base_uri": "https://localhost:8080/"
        },
        "outputId": "3ff585f6-bc39-44a8-c578-ccff6f36c39a"
      },
      "execution_count": 9,
      "outputs": [
        {
          "output_type": "execute_result",
          "data": {
            "text/plain": [
              "0           Vellore\n",
              "1       Krishnagiri\n",
              "2        Perambalur\n",
              "3        Dharmapuri\n",
              "4              Ooty\n",
              "           ...     \n",
              "9989        Madurai\n",
              "9990    Kanyakumari\n",
              "9991           Bodi\n",
              "9992     Pudukottai\n",
              "9993    Tirunelveli\n",
              "Name: City, Length: 9994, dtype: object"
            ]
          },
          "metadata": {},
          "execution_count": 9
        }
      ]
    },
    {
      "cell_type": "code",
      "source": [],
      "metadata": {
        "id": "CxGO4Nj8zwrm"
      },
      "execution_count": 12,
      "outputs": []
    },
    {
      "cell_type": "code",
      "source": [
        "cities=df.City.unique()\n",
        "len(cities)"
      ],
      "metadata": {
        "id": "aZCx2wMjYlL9",
        "colab": {
          "base_uri": "https://localhost:8080/"
        },
        "outputId": "46726a3a-a233-4122-f2bc-c604955acb54"
      },
      "execution_count": 12,
      "outputs": [
        {
          "output_type": "execute_result",
          "data": {
            "text/plain": [
              "24"
            ]
          },
          "metadata": {},
          "execution_count": 12
        }
      ]
    },
    {
      "cell_type": "code",
      "source": [
        "cities_by_customer=df.City.value_counts()\n",
        "cities_by_customer"
      ],
      "metadata": {
        "colab": {
          "base_uri": "https://localhost:8080/"
        },
        "id": "A29e-2ALzzGj",
        "outputId": "89beaf9d-017e-4e3c-8e65-bcaa1706d789"
      },
      "execution_count": 11,
      "outputs": [
        {
          "output_type": "execute_result",
          "data": {
            "text/plain": [
              "Kanyakumari       459\n",
              "Tirunelveli       446\n",
              "Bodi              442\n",
              "Krishnagiri       440\n",
              "Vellore           435\n",
              "Perambalur        434\n",
              "Tenkasi           432\n",
              "Chennai           432\n",
              "Salem             431\n",
              "Karur             430\n",
              "Pudukottai        430\n",
              "Coimbatore        428\n",
              "Ramanadhapuram    421\n",
              "Cumbum            417\n",
              "Virudhunagar      416\n",
              "Madurai           408\n",
              "Ooty              404\n",
              "Namakkal          403\n",
              "Viluppuram        397\n",
              "Dindigul          396\n",
              "Theni             387\n",
              "Dharmapuri        376\n",
              "Nagercoil         373\n",
              "Trichy            357\n",
              "Name: City, dtype: int64"
            ]
          },
          "metadata": {},
          "execution_count": 11
        }
      ]
    },
    {
      "cell_type": "code",
      "source": [
        "cities_by_customer[:5]"
      ],
      "metadata": {
        "colab": {
          "base_uri": "https://localhost:8080/"
        },
        "id": "uAJoLWPTzzDD",
        "outputId": "18b7eee1-998a-4677-9bd2-7b89a1b6de61"
      },
      "execution_count": 13,
      "outputs": [
        {
          "output_type": "execute_result",
          "data": {
            "text/plain": [
              "Kanyakumari    459\n",
              "Tirunelveli    446\n",
              "Bodi           442\n",
              "Krishnagiri    440\n",
              "Vellore        435\n",
              "Name: City, dtype: int64"
            ]
          },
          "metadata": {},
          "execution_count": 13
        }
      ]
    },
    {
      "cell_type": "code",
      "source": [
        "cities_by_customer[:5].plot(kind='barh')"
      ],
      "metadata": {
        "colab": {
          "base_uri": "https://localhost:8080/",
          "height": 282
        },
        "id": "vLtZDF0MzzAx",
        "outputId": "00ee170d-3204-4e9a-a91d-09c48ad7bede"
      },
      "execution_count": 14,
      "outputs": [
        {
          "output_type": "execute_result",
          "data": {
            "text/plain": [
              "<matplotlib.axes._subplots.AxesSubplot at 0x7f3e88608340>"
            ]
          },
          "metadata": {},
          "execution_count": 14
        },
        {
          "output_type": "display_data",
          "data": {
            "text/plain": [
              "<Figure size 432x288 with 1 Axes>"
            ],
            "image/png": "[encoded data removed]"
          },
          "metadata": {
            "needs_background": "light"
          }
        }
      ]
    },
    {
      "cell_type": "code",
      "source": [
        "import seaborn as sns\n",
        "sns.set_style(\"darkgrid\")"
      ],
      "metadata": {
        "id": "Gmhupazzzy-Y"
      },
      "execution_count": 15,
      "outputs": []
    },
    {
      "cell_type": "code",
      "source": [
        "sns.histplot(cities_by_customer, log_scale=True)"
      ],
      "metadata": {
        "colab": {
          "base_uri": "https://localhost:8080/",
          "height": 299
        },
        "id": "aGvVgujAzy8t",
        "outputId": "3844dd8b-4c43-48c5-9230-69d41755c1a5"
      },
      "execution_count": 16,
      "outputs": [
        {
          "output_type": "execute_result",
          "data": {
            "text/plain": [
              "<matplotlib.axes._subplots.AxesSubplot at 0x7f3e80918580>"
            ]
          },
          "metadata": {},
          "execution_count": 16
        },
        {
          "output_type": "display_data",
          "data": {
            "text/plain": [
              "<Figure size 432x288 with 1 Axes>"
            ],
            "image/png": "[encoded data removed]"
          },
          "metadata": {}
        }
      ]
    },
    {
      "cell_type": "code",
      "source": [
        "cities_by_customer[cities_by_customer==1]"
      ],
      "metadata": {
        "colab": {
          "base_uri": "https://localhost:8080/"
        },
        "id": "lE2Lm0WMzyWZ",
        "outputId": "6eb10eb0-2384-48f8-f155-5538edbb16ee"
      },
      "execution_count": 17,
      "outputs": [
        {
          "output_type": "execute_result",
          "data": {
            "text/plain": [
              "Series([], Name: City, dtype: int64)"
            ]
          },
          "metadata": {},
          "execution_count": 17
        }
      ]
    },
    {
      "cell_type": "code",
      "source": [
        "df.Category"
      ],
      "metadata": {
        "colab": {
          "base_uri": "https://localhost:8080/"
        },
        "id": "5Nzd51vf4ncR",
        "outputId": "0de63008-3d3a-4563-c75e-7c9bcd532e52"
      },
      "execution_count": 18,
      "outputs": [
        {
          "output_type": "execute_result",
          "data": {
            "text/plain": [
              "0            Oil & Masala\n",
              "1               Beverages\n",
              "2             Food Grains\n",
              "3        Fruits & Veggies\n",
              "4             Food Grains\n",
              "              ...        \n",
              "9989    Eggs, Meat & Fish\n",
              "9990               Bakery\n",
              "9991          Food Grains\n",
              "9992         Oil & Masala\n",
              "9993          Food Grains\n",
              "Name: Category, Length: 9994, dtype: object"
            ]
          },
          "metadata": {},
          "execution_count": 18
        }
      ]
    },
    {
      "cell_type": "code",
      "source": [
        "foods=df.Category.unique()\n",
        "foods\n",
        "len(foods)"
      ],
      "metadata": {
        "colab": {
          "base_uri": "https://localhost:8080/"
        },
        "id": "33ZpSc-y4nQb",
        "outputId": "2146d4cc-1c27-4f6a-9d58-be44fc8f3328"
      },
      "execution_count": 19,
      "outputs": [
        {
          "output_type": "execute_result",
          "data": {
            "text/plain": [
              "7"
            ]
          },
          "metadata": {},
          "execution_count": 19
        }
      ]
    },
    {
      "cell_type": "code",
      "source": [
        "food_consumption=df.Category.value_counts()\n",
        "food_consumption"
      ],
      "metadata": {
        "colab": {
          "base_uri": "https://localhost:8080/"
        },
        "id": "Gq4yAYU04nE6",
        "outputId": "d4137543-2af6-4f92-8197-23f3f79614c8"
      },
      "execution_count": 20,
      "outputs": [
        {
          "output_type": "execute_result",
          "data": {
            "text/plain": [
              "Snacks               1514\n",
              "Eggs, Meat & Fish    1490\n",
              "Fruits & Veggies     1418\n",
              "Bakery               1413\n",
              "Beverages            1400\n",
              "Food Grains          1398\n",
              "Oil & Masala         1361\n",
              "Name: Category, dtype: int64"
            ]
          },
          "metadata": {},
          "execution_count": 20
        }
      ]
    },
    {
      "cell_type": "code",
      "source": [
        "food_consumption.plot(kind='barh')"
      ],
      "metadata": {
        "colab": {
          "base_uri": "https://localhost:8080/",
          "height": 282
        },
        "id": "j0_rJWJt4lfe",
        "outputId": "ad3d9804-d3e2-4e5b-a87d-b5812bd0a33b"
      },
      "execution_count": 21,
      "outputs": [
        {
          "output_type": "execute_result",
          "data": {
            "text/plain": [
              "<matplotlib.axes._subplots.AxesSubplot at 0x7f3e807e6c70>"
            ]
          },
          "metadata": {},
          "execution_count": 21
        },
        {
          "output_type": "display_data",
          "data": {
            "text/plain": [
              "<Figure size 432x288 with 1 Axes>"
            ],
            "image/png": "[encoded data removed]"
          },
          "metadata": {}
        }
      ]
    },
    {
      "cell_type": "code",
      "source": [
        "df.Profit "
      ],
      "metadata": {
        "id": "mpIla1rk4lTz",
        "colab": {
          "base_uri": "https://localhost:8080/"
        },
        "outputId": "846ac9e8-4026-440a-c90c-7deed227773a"
      },
      "execution_count": 22,
      "outputs": [
        {
          "output_type": "execute_result",
          "data": {
            "text/plain": [
              "0       401.28\n",
              "1       149.80\n",
              "2       165.20\n",
              "3        89.60\n",
              "4       918.45\n",
              "         ...  \n",
              "9989    359.10\n",
              "9990     71.70\n",
              "9991    501.44\n",
              "9992    597.24\n",
              "9993    165.44\n",
              "Name: Profit, Length: 9994, dtype: float64"
            ]
          },
          "metadata": {},
          "execution_count": 22
        }
      ]
    },
    {
      "cell_type": "code",
      "source": [
        "profits=df.Profit.value_counts()\n",
        "profits"
      ],
      "metadata": {
        "colab": {
          "base_uri": "https://localhost:8080/"
        },
        "id": "kKzE6ylQItDv",
        "outputId": "6fcb15a2-4a28-4c4e-8823-bfbb1da3a618"
      },
      "execution_count": 24,
      "outputs": [
        {
          "output_type": "execute_result",
          "data": {
            "text/plain": [
              "336.00    6\n",
              "409.92    6\n",
              "198.00    6\n",
              "108.80    5\n",
              "118.80    5\n",
              "         ..\n",
              "335.60    1\n",
              "499.72    1\n",
              "432.76    1\n",
              "103.15    1\n",
              "501.44    1\n",
              "Name: Profit, Length: 8380, dtype: int64"
            ]
          },
          "metadata": {},
          "execution_count": 24
        }
      ]
    },
    {
      "cell_type": "code",
      "source": [
        "sort_profit=df.Profit.sort_values()\n",
        "sort_profit"
      ],
      "metadata": {
        "colab": {
          "base_uri": "https://localhost:8080/"
        },
        "id": "yXKU6F_BIxOh",
        "outputId": "d84a3ccb-224d-45f4-d4b2-853d110ff1d6"
      },
      "execution_count": 32,
      "outputs": [
        {
          "output_type": "execute_result",
          "data": {
            "text/plain": [
              "9551      25.25\n",
              "4750      25.45\n",
              "5763      25.55\n",
              "5460      25.85\n",
              "7540      26.85\n",
              "         ...   \n",
              "9782    1102.50\n",
              "8134    1103.40\n",
              "3436    1111.05\n",
              "3467    1120.50\n",
              "3159    1120.95\n",
              "Name: Profit, Length: 9994, dtype: float64"
            ]
          },
          "metadata": {},
          "execution_count": 32
        }
      ]
    },
    {
      "cell_type": "code",
      "source": [
        "import matplotlib.pyplot as mp"
      ],
      "metadata": {
        "id": "u12NZ5DMPfLg"
      },
      "execution_count": 41,
      "outputs": []
    },
    {
      "cell_type": "code",
      "source": [
        "sns.barplot(x=df.Category,y=df.Profit)\n",
        "\n"
      ],
      "metadata": {
        "colab": {
          "base_uri": "https://localhost:8080/",
          "height": 296
        },
        "id": "5GEWitwMIxDW",
        "outputId": "e56796db-c0ff-474f-dc64-c66a66c8a554"
      },
      "execution_count": 114,
      "outputs": [
        {
          "output_type": "execute_result",
          "data": {
            "text/plain": [
              "<matplotlib.axes._subplots.AxesSubplot at 0x7f3df5059640>"
            ]
          },
          "metadata": {},
          "execution_count": 114
        },
        {
          "output_type": "display_data",
          "data": {
            "text/plain": [
              "<Figure size 432x288 with 1 Axes>"
            ],
            "image/png": "[encoded data removed]"
          },
          "metadata": {}
        }
      ]
    },
    {
      "cell_type": "code",
      "source": [
        "df.Discount.unique()\n",
        "df.Discount.sort_values()"
      ],
      "metadata": {
        "colab": {
          "base_uri": "https://localhost:8080/"
        },
        "id": "c1hjJ6mieGsu",
        "outputId": "c9fa1c13-20cf-402d-bcd2-663349f41f9f"
      },
      "execution_count": 108,
      "outputs": [
        {
          "output_type": "execute_result",
          "data": {
            "text/plain": [
              "954     0.10\n",
              "4708    0.10\n",
              "9377    0.10\n",
              "5966    0.10\n",
              "3071    0.10\n",
              "        ... \n",
              "3031    0.35\n",
              "4860    0.35\n",
              "9586    0.35\n",
              "3043    0.35\n",
              "2795    0.35\n",
              "Name: Discount, Length: 9994, dtype: float64"
            ]
          },
          "metadata": {},
          "execution_count": 108
        }
      ]
    },
    {
      "cell_type": "code",
      "source": [
        "sns.barplot(x=df.Discount,y=df.Profit)"
      ],
      "metadata": {
        "colab": {
          "base_uri": "https://localhost:8080/",
          "height": 296
        },
        "id": "iwXm7wOyb5Nu",
        "outputId": "b7d9150f-5f1b-4f2d-d8e5-2f178fc0f6ab"
      },
      "execution_count": 105,
      "outputs": [
        {
          "output_type": "execute_result",
          "data": {
            "text/plain": [
              "<matplotlib.axes._subplots.AxesSubplot at 0x7f3df535e4f0>"
            ]
          },
          "metadata": {},
          "execution_count": 105
        },
        {
          "output_type": "display_data",
          "data": {
            "text/plain": [
              "<Figure size 432x288 with 1 Axes>"
            ],
            "image/png": "[encoded data removed]"
          },
          "metadata": {}
        }
      ]
    },
    {
      "cell_type": "code",
      "source": [
        "df.Region\n"
      ],
      "metadata": {
        "colab": {
          "base_uri": "https://localhost:8080/"
        },
        "id": "uV9Dy7EKfev2",
        "outputId": "b2057d5d-1ee8-416c-8d95-ae43c4303417"
      },
      "execution_count": 115,
      "outputs": [
        {
          "output_type": "execute_result",
          "data": {
            "text/plain": [
              "0       North\n",
              "1       South\n",
              "2        West\n",
              "3       South\n",
              "4       South\n",
              "        ...  \n",
              "9989     West\n",
              "9990     West\n",
              "9991     West\n",
              "9992     West\n",
              "9993     West\n",
              "Name: Region, Length: 9994, dtype: object"
            ]
          },
          "metadata": {},
          "execution_count": 115
        }
      ]
    },
    {
      "cell_type": "code",
      "source": [
        "regions=df.Region.value_counts()\n",
        "regions"
      ],
      "metadata": {
        "colab": {
          "base_uri": "https://localhost:8080/"
        },
        "id": "rQQlvLTlf0Oa",
        "outputId": "1a6e8720-9eba-46f5-dc74-270f789ef397"
      },
      "execution_count": 116,
      "outputs": [
        {
          "output_type": "execute_result",
          "data": {
            "text/plain": [
              "West       3203\n",
              "East       2848\n",
              "Central    2323\n",
              "South      1619\n",
              "North         1\n",
              "Name: Region, dtype: int64"
            ]
          },
          "metadata": {},
          "execution_count": 116
        }
      ]
    },
    {
      "cell_type": "code",
      "source": [
        "regions.plot(kind='barh')"
      ],
      "metadata": {
        "colab": {
          "base_uri": "https://localhost:8080/",
          "height": 282
        },
        "id": "g4k-VR8xgD0L",
        "outputId": "f7dfb8b2-c392-4352-a6d3-101a251c02eb"
      },
      "execution_count": 121,
      "outputs": [
        {
          "output_type": "execute_result",
          "data": {
            "text/plain": [
              "<matplotlib.axes._subplots.AxesSubplot at 0x7f3df4e8c4c0>"
            ]
          },
          "metadata": {},
          "execution_count": 121
        },
        {
          "output_type": "display_data",
          "data": {
            "text/plain": [
              "<Figure size 432x288 with 1 Axes>"
            ],
            "image/png": "[encoded data removed]"
          },
          "metadata": {}
        }
      ]
    },
    {
      "cell_type": "code",
      "source": [
        "sns.barplot(x=df.Category,y=df.Sales)"
      ],
      "metadata": {
        "colab": {
          "base_uri": "https://localhost:8080/",
          "height": 297
        },
        "id": "c5WT_EQRhJgL",
        "outputId": "119be306-be64-433a-c735-51a5636ed994"
      },
      "execution_count": 123,
      "outputs": [
        {
          "output_type": "execute_result",
          "data": {
            "text/plain": [
              "<matplotlib.axes._subplots.AxesSubplot at 0x7f3df4e709d0>"
            ]
          },
          "metadata": {},
          "execution_count": 123
        },
        {
          "output_type": "display_data",
          "data": {
            "text/plain": [
              "<Figure size 432x288 with 1 Axes>"
            ],
            "image/png": "[encoded data removed]"
          },
          "metadata": {}
        }
      ]
    },
    {
      "cell_type": "code",
      "source": [],
      "metadata": {
        "id": "h_x9RsIGhJUQ"
      },
      "execution_count": null,
      "outputs": []
    },
    {
      "cell_type": "code",
      "source": [],
      "metadata": {
        "id": "lia2w67ehIxb"
      },
      "execution_count": null,
      "outputs": []
    },
    {
      "cell_type": "markdown",
      "source": [
        "## Ask & answer questions\n",
        "\n",
        "1. which food consumption is most by cutomer?\n",
        "2. Which 5 cities have the highest number of customers? \n",
        "3. in term of Discount, which food sold most time? how discount effect the sales?.\n",
        "6. which region has most sales?\n",
        "\n",
        "9. which food has the highest profit?"
      ],
      "metadata": {
        "id": "9ZBjPsleh2IB"
      }
    },
    {
      "cell_type": "markdown",
      "source": [
        "**answer (1)**\n",
        "\n",
        "snacks has the highest food consumption."
      ],
      "metadata": {
        "id": "YHGzaLE5ASPX"
      }
    },
    {
      "cell_type": "markdown",
      "source": [
        "**answer(2)**\n",
        "\n",
        "1.Kanyakumari   \n",
        "2.Tirunelveli    \n",
        "3.Bodi          \n",
        "4.Krishnagiri    \n",
        "5.Vellore      "
      ],
      "metadata": {
        "id": "pYNIprrZ3-Fm"
      }
    },
    {
      "cell_type": "markdown",
      "source": [
        "**answer(3)**\n",
        "\n",
        "Above graph shows that discount doesn't effect the sales in that case.\n"
      ],
      "metadata": {
        "id": "dQy5oZYui-HL"
      }
    },
    {
      "cell_type": "markdown",
      "source": [
        "**answer(4)**\n",
        "\n",
        "west region has most sales all time."
      ],
      "metadata": {
        "id": "gO9wUhW8jSJ_"
      }
    },
    {
      "cell_type": "markdown",
      "source": [
        "**answer(5)**\n",
        "\n",
        "meat and fish have highest profit."
      ],
      "metadata": {
        "id": "3hxg-g_8jtOr"
      }
    },
    {
      "cell_type": "markdown",
      "source": [
        "## Summary and Conclusion\n",
        "\n",
        "\n",
        "Insights:\n",
        "- North region has only sale\n",
        "- highest sales by meat and fish\n",
        "- need to investigate the data related question in depth \n",
        "- like over the year sales "
      ],
      "metadata": {
        "id": "dFCPrx-DkDVR"
      }
    },
    {
      "cell_type": "code",
      "source": [
        "!pip install jovian\n",
        "import jovian"
      ],
      "metadata": {
        "colab": {
          "base_uri": "https://localhost:8080/"
        },
        "id": "wjvrsVxVlFK1",
        "outputId": "269579e3-bc71-4fcb-933c-ecf3bb0ecb6e"
      },
      "execution_count": 2,
      "outputs": [
        {
          "output_type": "stream",
          "name": "stdout",
          "text": [
            "Looking in indexes: https://pypi.org/simple, https://us-python.pkg.dev/colab-wheels/public/simple/\n",
            "Requirement already satisfied: jovian in /usr/local/lib/python3.8/dist-packages (0.2.45)\n",
            "Requirement already satisfied: requests in /usr/local/lib/python3.8/dist-packages (from jovian) (2.23.0)\n",
            "Requirement already satisfied: uuid in /usr/local/lib/python3.8/dist-packages (from jovian) (1.30)\n",
            "Requirement already satisfied: click in /usr/local/lib/python3.8/dist-packages (from jovian) (7.1.2)\n",
            "Requirement already satisfied: pyyaml in /usr/local/lib/python3.8/dist-packages (from jovian) (6.0)\n",
            "Requirement already satisfied: certifi>=2017.4.17 in /usr/local/lib/python3.8/dist-packages (from requests->jovian) (2022.9.24)\n",
            "Requirement already satisfied: chardet<4,>=3.0.2 in /usr/local/lib/python3.8/dist-packages (from requests->jovian) (3.0.4)\n",
            "Requirement already satisfied: urllib3!=1.25.0,!=1.25.1,<1.26,>=1.21.1 in /usr/local/lib/python3.8/dist-packages (from requests->jovian) (1.24.3)\n",
            "Requirement already satisfied: idna<3,>=2.5 in /usr/local/lib/python3.8/dist-packages (from requests->jovian) (2.10)\n"
          ]
        }
      ]
    },
    {
      "cell_type": "code",
      "source": [
        "jovian.commit()"
      ],
      "metadata": {
        "colab": {
          "base_uri": "https://localhost:8080/"
        },
        "id": "qsd-MpUNlWdQ",
        "outputId": "b0db7698-efa6-44d0-c273-fa24482962c1"
      },
      "execution_count": 3,
      "outputs": [
        {
          "output_type": "stream",
          "name": "stdout",
          "text": [
            "[jovian] Detected Colab notebook...\u001b[0m\n",
            "[jovian] jovian.commit() is no longer required on Google Colab. If you ran this notebook from Jovian, \n",
            "then just save this file in Colab using Ctrl+S/Cmd+S and it will be updated on Jovian. \n",
            "Also, you can also delete this cell, it's no longer necessary.\u001b[0m\n"
          ]
        }
      ]
    }
  ],
  "metadata": {
    "kernelspec": {
      "display_name": "Python 3 (ipykernel)",
      "language": "python",
      "name": "python3"
    },
    "language_info": {
      "codemirror_mode": {
        "name": "ipython",
        "version": 3
      },
      "file_extension": ".py",
      "mimetype": "text/x-python",
      "name": "python",
      "nbconvert_exporter": "python",
      "pygments_lexer": "ipython3",
      "version": "3.9.7"
    },
    "colab": {
      "provenance": [],
      "include_colab_link": true
    }
  },
  "nbformat": 4,
  "nbformat_minor": 0
}